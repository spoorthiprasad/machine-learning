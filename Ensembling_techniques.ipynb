{
  "nbformat": 4,
  "nbformat_minor": 0,
  "metadata": {
    "colab": {
      "provenance": []
    },
    "kernelspec": {
      "name": "python3",
      "display_name": "Python 3"
    },
    "language_info": {
      "name": "python"
    }
  },
  "cells": [
    {
      "cell_type": "markdown",
      "source": [
        "### **Bagged desion tree for classification**"
      ],
      "metadata": {
        "id": "xYk_-lceMokT"
      }
    },
    {
      "cell_type": "code",
      "execution_count": 2,
      "metadata": {
        "id": "O6oVEdSQGx6H"
      },
      "outputs": [],
      "source": [
        "from pandas import read_csv\n",
        "from sklearn.model_selection import KFold\n",
        "from sklearn.model_selection import cross_val_score\n",
        "from sklearn.ensemble import BaggingClassifier\n",
        "from sklearn.tree import DecisionTreeClassifier"
      ]
    },
    {
      "cell_type": "code",
      "source": [
        "filename=\"/content/pima-indians-diabetes.data.csv\"\n",
        "names=['preg','plas','pres','skin','test','mass','pedi','age','class']\n",
        "dataframe=read_csv(filename,names=names)\n",
        "array=dataframe.values\n",
        "x=array[:,0:8]\n",
        "y=array[:,8]\n",
        "seed=7\n",
        "#kfold=KFold(n_splits=10,random_state=seed,shuffele=True)\n",
        "# shuffle=True indicates that the data should be shuffeled before sp;litting it into folds.\n"
      ],
      "metadata": {
        "id": "MxIl77OcNXx6"
      },
      "execution_count": 3,
      "outputs": []
    },
    {
      "cell_type": "code",
      "source": [
        "kfold=KFold(n_splits=10)\n",
        "cart=DecisionTreeClassifier()\n",
        "num_trees=100\n",
        "\n",
        "model=BaggingClassifier(estimator=cart,n_estimators=num_trees,random_state=seed)\n",
        "results=cross_val_score(model,x,y,cv=kfold)"
      ],
      "metadata": {
        "id": "bB5laPzBPt4s"
      },
      "execution_count": 5,
      "outputs": []
    },
    {
      "cell_type": "code",
      "source": [
        "results"
      ],
      "metadata": {
        "colab": {
          "base_uri": "https://localhost:8080/"
        },
        "id": "aYnjq9AGQZLI",
        "outputId": "8b47b3ca-587b-4cd8-e784-3b3b25fab57f"
      },
      "execution_count": 6,
      "outputs": [
        {
          "output_type": "execute_result",
          "data": {
            "text/plain": [
              "array([0.66233766, 0.84415584, 0.75324675, 0.64935065, 0.83116883,\n",
              "       0.83116883, 0.83116883, 0.84415584, 0.68421053, 0.78947368])"
            ]
          },
          "metadata": {},
          "execution_count": 6
        }
      ]
    },
    {
      "cell_type": "code",
      "source": [
        "results.mean()"
      ],
      "metadata": {
        "colab": {
          "base_uri": "https://localhost:8080/"
        },
        "id": "kyxiPRJSQE6X",
        "outputId": "582e9df4-f9e9-43d2-d67c-c5e0dd797164"
      },
      "execution_count": 7,
      "outputs": [
        {
          "output_type": "execute_result",
          "data": {
            "text/plain": [
              "0.7720437457279563"
            ]
          },
          "metadata": {},
          "execution_count": 7
        }
      ]
    },
    {
      "cell_type": "markdown",
      "source": [
        "### **Random forest classification**"
      ],
      "metadata": {
        "id": "b6waLiqBStd4"
      }
    },
    {
      "cell_type": "code",
      "source": [
        "from pandas import read_csv\n",
        "from sklearn.model_selection import KFold\n",
        "from sklearn.model_selection import cross_val_score\n",
        "from sklearn.ensemble import RandomForestClassifier"
      ],
      "metadata": {
        "id": "iAAQ9VFNTUr5"
      },
      "execution_count": 8,
      "outputs": []
    },
    {
      "cell_type": "code",
      "source": [
        "filename=\"/content/pima-indians-diabetes.data.csv\"\n",
        "names=['preg','plas','pres','skin','test','mass','pedi','age','class']\n",
        "dataframe=read_csv(filename,names=names)\n",
        "array=dataframe.values\n",
        "x=array[:,0:8]\n",
        "y=array[:,8]\n",
        "\n",
        "num_trees=100\n",
        "max_features=3\n",
        "kfold=KFold(n_splits=10)\n",
        "\n",
        "model=RandomForestClassifier(n_estimators=num_trees,max_features=max_features)\n",
        "results=cross_val_score(model,x,y,cv=kfold)"
      ],
      "metadata": {
        "id": "OlrprhudToju"
      },
      "execution_count": 11,
      "outputs": []
    },
    {
      "cell_type": "code",
      "source": [
        "results"
      ],
      "metadata": {
        "colab": {
          "base_uri": "https://localhost:8080/"
        },
        "id": "aJzz95tWTp8N",
        "outputId": "723421ea-ec3e-42ae-8fd2-70336eaaba59"
      },
      "execution_count": 12,
      "outputs": [
        {
          "output_type": "execute_result",
          "data": {
            "text/plain": [
              "array([0.71428571, 0.81818182, 0.75324675, 0.7012987 , 0.79220779,\n",
              "       0.81818182, 0.80519481, 0.85714286, 0.73684211, 0.78947368])"
            ]
          },
          "metadata": {},
          "execution_count": 12
        }
      ]
    },
    {
      "cell_type": "code",
      "source": [
        "results.mean()"
      ],
      "metadata": {
        "colab": {
          "base_uri": "https://localhost:8080/"
        },
        "id": "Lx0YCLnDULoR",
        "outputId": "590ec39b-ed7c-4401-8221-9808335cb217"
      },
      "execution_count": 13,
      "outputs": [
        {
          "output_type": "execute_result",
          "data": {
            "text/plain": [
              "0.7786056049213944"
            ]
          },
          "metadata": {},
          "execution_count": 13
        }
      ]
    },
    {
      "cell_type": "markdown",
      "source": [
        "### **AdaBoost classifier **"
      ],
      "metadata": {
        "id": "UfGSZZqpUoay"
      }
    },
    {
      "cell_type": "code",
      "source": [
        "from pandas import read_csv\n",
        "from sklearn.model_selection import KFold\n",
        "from sklearn.model_selection import cross_val_score\n",
        "from sklearn.ensemble import AdaBoostClassifier"
      ],
      "metadata": {
        "id": "DzbNDPiBUz16"
      },
      "execution_count": 14,
      "outputs": []
    },
    {
      "cell_type": "code",
      "source": [
        "filename=\"/content/pima-indians-diabetes.data.csv\"\n",
        "names=['preg','plas','pres','skin','test','mass','pedi','age','class']\n",
        "dataframe=read_csv(filename,names=names)\n",
        "array=dataframe.values\n",
        "x=array[:,0:8]\n",
        "y=array[:,8]\n",
        "\n",
        "num_trees=10\n",
        "seed=7\n",
        "kfold=KFold(n_splits=10,random_state=seed,shuffle=True)\n",
        "\n",
        "model=AdaBoostClassifier(n_estimators=num_trees,random_state=seed)\n",
        "results=cross_val_score(model,x,y,cv=kfold)"
      ],
      "metadata": {
        "id": "n6ibiYF3VEmj"
      },
      "execution_count": 16,
      "outputs": []
    },
    {
      "cell_type": "code",
      "source": [
        "results"
      ],
      "metadata": {
        "colab": {
          "base_uri": "https://localhost:8080/"
        },
        "id": "bEX-dEpOVZXi",
        "outputId": "70f3a813-a757-47a4-8dc5-a193c32a6248"
      },
      "execution_count": 17,
      "outputs": [
        {
          "output_type": "execute_result",
          "data": {
            "text/plain": [
              "array([0.80519481, 0.74025974, 0.67532468, 0.81818182, 0.80519481,\n",
              "       0.79220779, 0.71428571, 0.75324675, 0.78947368, 0.77631579])"
            ]
          },
          "metadata": {},
          "execution_count": 17
        }
      ]
    },
    {
      "cell_type": "code",
      "source": [
        "results.mean()"
      ],
      "metadata": {
        "colab": {
          "base_uri": "https://localhost:8080/"
        },
        "id": "P5VNse5FVbta",
        "outputId": "b561d4f8-41f3-48bf-de1e-e88d8ca055ed"
      },
      "execution_count": 18,
      "outputs": [
        {
          "output_type": "execute_result",
          "data": {
            "text/plain": [
              "0.7669685577580314"
            ]
          },
          "metadata": {},
          "execution_count": 18
        }
      ]
    },
    {
      "cell_type": "markdown",
      "source": [
        "### **stacking ensemble for classification**"
      ],
      "metadata": {
        "id": "UbWUWFXLW_nl"
      }
    },
    {
      "cell_type": "code",
      "source": [
        "from pandas import read_csv\n",
        "from sklearn.model_selection import KFold\n",
        "from sklearn.model_selection import cross_val_score\n",
        "from sklearn.linear_model import LogisticRegression\n",
        "from sklearn.tree import DecisionTreeClassifier\n",
        "from sklearn.svm import SVC # support vector classifier\n",
        "from sklearn.ensemble import VotingClassifier\n"
      ],
      "metadata": {
        "id": "uLO6DHs-XZ7U"
      },
      "execution_count": 19,
      "outputs": []
    },
    {
      "cell_type": "code",
      "source": [
        "filename=\"/content/pima-indians-diabetes.data.csv\"\n",
        "names=['preg','plas','pres','skin','test','mass','pedi','age','class']\n",
        "dataframe=read_csv(filename,names=names)\n",
        "array=dataframe.values\n",
        "x=array[:,0:8]\n",
        "y=array[:,8]\n",
        "kfold=KFold(n_splits=10)\n",
        "\n",
        "# create the submodels\n",
        "estimators=[]# create empty list for different algorithms\n",
        "\n",
        "model1=LogisticRegression(max_iter=500)\n",
        "estimators.append(('Logistic',model1))\n",
        "\n",
        "model2=DecisionTreeClassifier()\n",
        "estimators.append(('cart',model2))\n",
        "\n",
        "model3=SVC()\n",
        "estimators.append(('svc',model3))\n",
        "\n",
        "# create the ensemble model\n",
        "ensemble=VotingClassifier(estimators)\n",
        "results=cross_val_score(ensemble,x,y,cv=kfold)\n"
      ],
      "metadata": {
        "id": "x_1oOoclX66h"
      },
      "execution_count": 23,
      "outputs": []
    },
    {
      "cell_type": "code",
      "source": [
        "estimators"
      ],
      "metadata": {
        "colab": {
          "base_uri": "https://localhost:8080/"
        },
        "id": "BbyjGUpkZ_eA",
        "outputId": "d74eba30-1b5b-410e-b736-6c69db85aa41"
      },
      "execution_count": 24,
      "outputs": [
        {
          "output_type": "execute_result",
          "data": {
            "text/plain": [
              "[('Logistic', LogisticRegression(max_iter=500)),\n",
              " ('cart', DecisionTreeClassifier()),\n",
              " ('svc', SVC())]"
            ]
          },
          "metadata": {},
          "execution_count": 24
        }
      ]
    },
    {
      "cell_type": "code",
      "source": [
        "results"
      ],
      "metadata": {
        "colab": {
          "base_uri": "https://localhost:8080/"
        },
        "id": "3VDQ4TCMaEwU",
        "outputId": "91259535-b7d9-4720-b3b3-00f922dfb12a"
      },
      "execution_count": 25,
      "outputs": [
        {
          "output_type": "execute_result",
          "data": {
            "text/plain": [
              "array([0.63636364, 0.80519481, 0.72727273, 0.66233766, 0.79220779,\n",
              "       0.80519481, 0.83116883, 0.85714286, 0.75      , 0.76315789])"
            ]
          },
          "metadata": {},
          "execution_count": 25
        }
      ]
    },
    {
      "cell_type": "code",
      "source": [
        "results.mean()"
      ],
      "metadata": {
        "colab": {
          "base_uri": "https://localhost:8080/"
        },
        "id": "f16dklC7aGeW",
        "outputId": "f3092761-045d-4e10-ac9a-3932509740f7"
      },
      "execution_count": 26,
      "outputs": [
        {
          "output_type": "execute_result",
          "data": {
            "text/plain": [
              "0.7630041011619959"
            ]
          },
          "metadata": {},
          "execution_count": 26
        }
      ]
    }
  ]
}